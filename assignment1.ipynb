{
 "cells": [
  {
   "cell_type": "markdown",
   "metadata": {},
   "source": [
    "Create a file using data of following fields from user:\n",
    "\n",
    "1.Name\n",
    "2.College\n",
    "3.Branch\n",
    "4.Contact"
   ]
  },
  {
   "cell_type": "code",
   "execution_count": 7,
   "metadata": {
    "scrolled": false
   },
   "outputs": [
    {
     "name": "stdout",
     "output_type": "stream",
     "text": [
      "Enter your Name :- fdsa\n",
      "Enter your College Name :- fdas\n",
      "Enter your Branch Name :- fdsa\n",
      "Enter your Contack No. :- 2341\n"
     ]
    }
   ],
   "source": [
    "f=open(\"txt1.txt\",\"a\")\n",
    "name=str(input(\"Enter your Name :- \"))\n",
    "clg=str(input(\"Enter your College Name :- \"))\n",
    "branch=str(input(\"Enter your Branch Name :- \"))\n",
    "no=int(input(\"Enter your Contack No. :- \"))\n",
    "f.write(\"Name :- \"+name+\"\\n\")\n",
    "f.write(\"College :- \"+clg+\"\\n\")\n",
    "f.write(\"Branch :- \"+branch+\"\\n\")\n",
    "f.write(\"Contact :- \"+str(no)+\"\\n\")\n",
    "f.write(\"\\n\")\n",
    "f.close()"
   ]
  },
  {
   "cell_type": "code",
   "execution_count": null,
   "metadata": {},
   "outputs": [],
   "source": []
  }
 ],
 "metadata": {
  "kernelspec": {
   "display_name": "Python 3",
   "language": "python",
   "name": "python3"
  },
  "language_info": {
   "codemirror_mode": {
    "name": "ipython",
    "version": 3
   },
   "file_extension": ".py",
   "mimetype": "text/x-python",
   "name": "python",
   "nbconvert_exporter": "python",
   "pygments_lexer": "ipython3",
   "version": "3.8.3"
  }
 },
 "nbformat": 4,
 "nbformat_minor": 4
}
